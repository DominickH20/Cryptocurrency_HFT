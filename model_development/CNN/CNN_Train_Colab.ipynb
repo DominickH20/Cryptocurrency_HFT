{
 "cells": [
  {
   "cell_type": "code",
   "execution_count": 1,
   "metadata": {
    "colab": {
     "base_uri": "https://localhost:8080/",
     "height": 35
    },
    "colab_type": "code",
    "executionInfo": {
     "elapsed": 7476,
     "status": "ok",
     "timestamp": 1588057289548,
     "user": {
      "displayName": "Dominick Harasimiuk",
      "photoUrl": "",
      "userId": "13422480738742258382"
     },
     "user_tz": 240
    },
    "id": "RQIMYyGUlTNn",
    "outputId": "d9605426-9ce1-42a8-aaac-2c8325e548f8"
   },
   "outputs": [
    {
     "name": "stderr",
     "output_type": "stream",
     "text": [
      "Using TensorFlow backend.\n"
     ]
    }
   ],
   "source": [
    "import numpy as np\n",
    "import pandas as pd\n",
    "import matplotlib.pyplot as plt\n",
    "\n",
    "import keras\n",
    "import io\n",
    "\n",
    "from google.colab import drive"
   ]
  },
  {
   "cell_type": "code",
   "execution_count": 2,
   "metadata": {
    "colab": {
     "base_uri": "https://localhost:8080/",
     "height": 35
    },
    "colab_type": "code",
    "executionInfo": {
     "elapsed": 7467,
     "status": "ok",
     "timestamp": 1588057289549,
     "user": {
      "displayName": "Dominick Harasimiuk",
      "photoUrl": "",
      "userId": "13422480738742258382"
     },
     "user_tz": 240
    },
    "id": "-E3rV_0VleWp",
    "outputId": "6d9b8df9-4a98-40fb-dd72-a2addb46c94e"
   },
   "outputs": [
    {
     "name": "stdout",
     "output_type": "stream",
     "text": [
      "Drive already mounted at /drive; to attempt to forcibly remount, call drive.mount(\"/drive\", force_remount=True).\n"
     ]
    }
   ],
   "source": [
    "drive.mount('/drive')"
   ]
  },
  {
   "cell_type": "code",
   "execution_count": 0,
   "metadata": {
    "colab": {},
    "colab_type": "code",
    "id": "yPYsyJAI0xGv"
   },
   "outputs": [],
   "source": [
    "X1 = np.load('/drive/My Drive/Colab Notebooks/train_cnn_1_X.npy')\n",
    "X2 = np.load('/drive/My Drive/Colab Notebooks/train_cnn_2_X.npy')\n",
    "X3 = np.load('/drive/My Drive/Colab Notebooks/train_cnn_3_X.npy')\n",
    "X4 = np.load('/drive/My Drive/Colab Notebooks/train_cnn_4_X.npy')"
   ]
  },
  {
   "cell_type": "code",
   "execution_count": 0,
   "metadata": {
    "colab": {},
    "colab_type": "code",
    "id": "KodvzW0A3bKN"
   },
   "outputs": [],
   "source": [
    "Y1 = np.load('/drive/My Drive/Colab Notebooks/train_cnn_1_Y.npy')\n",
    "Y2 = np.load('/drive/My Drive/Colab Notebooks/train_cnn_2_Y.npy')\n",
    "Y3 = np.load('/drive/My Drive/Colab Notebooks/train_cnn_3_Y.npy')\n",
    "Y4 = np.load('/drive/My Drive/Colab Notebooks/train_cnn_4_Y.npy')"
   ]
  },
  {
   "cell_type": "code",
   "execution_count": 0,
   "metadata": {
    "colab": {},
    "colab_type": "code",
    "id": "-6reXN2r3jn8"
   },
   "outputs": [],
   "source": [
    "X_train = np.concatenate((X1,X2,X3,X4))\n",
    "Y_train = np.concatenate((Y1,Y2,Y3,Y4))\n",
    "\n",
    "X_test = np.load('/drive/My Drive/Colab Notebooks/test_cnn_4_X.npy')\n",
    "Y_test = np.load('/drive/My Drive/Colab Notebooks/test_cnn_4_Y.npy')"
   ]
  },
  {
   "cell_type": "code",
   "execution_count": 6,
   "metadata": {
    "colab": {
     "base_uri": "https://localhost:8080/",
     "height": 1000
    },
    "colab_type": "code",
    "executionInfo": {
     "elapsed": 919984,
     "status": "ok",
     "timestamp": 1588058202088,
     "user": {
      "displayName": "Dominick Harasimiuk",
      "photoUrl": "",
      "userId": "13422480738742258382"
     },
     "user_tz": 240
    },
    "id": "mF8UN5fo4EF1",
    "outputId": "3298467c-4103-4cd5-b0fd-33a15f34f438"
   },
   "outputs": [
    {
     "name": "stdout",
     "output_type": "stream",
     "text": [
      "Model: \"sequential_1\"\n",
      "_________________________________________________________________\n",
      "Layer (type)                 Output Shape              Param #   \n",
      "=================================================================\n",
      "conv2d_1 (Conv2D)            (None, 30, 100, 32)       3232      \n",
      "_________________________________________________________________\n",
      "max_pooling2d_1 (MaxPooling2 (None, 15, 50, 32)        0         \n",
      "_________________________________________________________________\n",
      "conv2d_2 (Conv2D)            (None, 15, 50, 64)        51264     \n",
      "_________________________________________________________________\n",
      "max_pooling2d_2 (MaxPooling2 (None, 7, 25, 64)         0         \n",
      "_________________________________________________________________\n",
      "flatten_1 (Flatten)          (None, 11200)             0         \n",
      "_________________________________________________________________\n",
      "dense_1 (Dense)              (None, 128)               1433728   \n",
      "_________________________________________________________________\n",
      "dense_2 (Dense)              (None, 54)                6966      \n",
      "_________________________________________________________________\n",
      "dense_3 (Dense)              (None, 3)                 165       \n",
      "=================================================================\n",
      "Total params: 1,495,355\n",
      "Trainable params: 1,495,355\n",
      "Non-trainable params: 0\n",
      "_________________________________________________________________\n",
      "None\n",
      "Train on 84735 samples, validate on 59336 samples\n",
      "Epoch 1/15\n",
      "84735/84735 [==============================] - 43s 513us/step - loss: 0.8686 - categorical_accuracy: 0.5915 - val_loss: 0.8075 - val_categorical_accuracy: 0.5634\n",
      "Epoch 2/15\n",
      "84735/84735 [==============================] - 36s 425us/step - loss: 0.7755 - categorical_accuracy: 0.6417 - val_loss: 0.7576 - val_categorical_accuracy: 0.5979\n",
      "Epoch 3/15\n",
      "84735/84735 [==============================] - 36s 426us/step - loss: 0.7520 - categorical_accuracy: 0.6549 - val_loss: 0.7966 - val_categorical_accuracy: 0.5894\n",
      "Epoch 4/15\n",
      "84735/84735 [==============================] - 36s 422us/step - loss: 0.7296 - categorical_accuracy: 0.6675 - val_loss: 0.6947 - val_categorical_accuracy: 0.6494\n",
      "Epoch 5/15\n",
      "84735/84735 [==============================] - 36s 420us/step - loss: 0.6978 - categorical_accuracy: 0.6829 - val_loss: 0.8614 - val_categorical_accuracy: 0.5904\n",
      "Epoch 6/15\n",
      "84735/84735 [==============================] - 36s 420us/step - loss: 0.6512 - categorical_accuracy: 0.7092 - val_loss: 0.7450 - val_categorical_accuracy: 0.6452\n",
      "Epoch 7/15\n",
      "84735/84735 [==============================] - 36s 420us/step - loss: 0.5824 - categorical_accuracy: 0.7447 - val_loss: 0.9288 - val_categorical_accuracy: 0.6136\n",
      "Epoch 8/15\n",
      "84735/84735 [==============================] - 35s 419us/step - loss: 0.4917 - categorical_accuracy: 0.7899 - val_loss: 0.8360 - val_categorical_accuracy: 0.6515\n",
      "Epoch 9/15\n",
      "84735/84735 [==============================] - 36s 423us/step - loss: 0.3854 - categorical_accuracy: 0.8414 - val_loss: 1.1130 - val_categorical_accuracy: 0.6366\n",
      "Epoch 10/15\n",
      "84735/84735 [==============================] - 36s 425us/step - loss: 0.2891 - categorical_accuracy: 0.8835 - val_loss: 1.3759 - val_categorical_accuracy: 0.6496\n",
      "Epoch 11/15\n",
      "84735/84735 [==============================] - 36s 424us/step - loss: 0.2051 - categorical_accuracy: 0.9210 - val_loss: 1.6837 - val_categorical_accuracy: 0.6414\n",
      "Epoch 12/15\n",
      "84735/84735 [==============================] - 36s 424us/step - loss: 0.1483 - categorical_accuracy: 0.9447 - val_loss: 1.9271 - val_categorical_accuracy: 0.6438\n",
      "Epoch 13/15\n",
      "84735/84735 [==============================] - 36s 428us/step - loss: 0.1247 - categorical_accuracy: 0.9550 - val_loss: 2.1831 - val_categorical_accuracy: 0.6603\n",
      "Epoch 14/15\n",
      "84735/84735 [==============================] - 36s 424us/step - loss: 0.1047 - categorical_accuracy: 0.9628 - val_loss: 2.3604 - val_categorical_accuracy: 0.6333\n",
      "Epoch 15/15\n",
      "84735/84735 [==============================] - 36s 421us/step - loss: 0.0867 - categorical_accuracy: 0.9696 - val_loss: 2.5483 - val_categorical_accuracy: 0.6425\n"
     ]
    }
   ],
   "source": [
    "from keras.models import Sequential\n",
    "from keras.layers import Dense, Activation, Flatten\n",
    "from keras.layers import Conv2D, MaxPooling2D\n",
    "from keras.callbacks import ModelCheckpoint\n",
    "\n",
    "def build_cnn_model(activation, input_shape):\n",
    "    model = Sequential()\n",
    "    \n",
    "    # 2 Convolution layer with Max polling\n",
    "    model.add(Conv2D(32, 5, activation = activation, padding = 'same', input_shape = input_shape))\n",
    "    model.add(MaxPooling2D())\n",
    "    model.add(Conv2D(64, 5, activation = activation, padding = 'same', kernel_initializer = \"he_normal\"))\n",
    "    model.add(MaxPooling2D())  \n",
    "    model.add(Flatten())\n",
    "    \n",
    "    # 3 Full connected layer\n",
    "    model.add(Dense(128, activation = activation, kernel_initializer = \"he_normal\"))\n",
    "    model.add(Dense(54, activation = activation, kernel_initializer = \"he_normal\"))\n",
    "    model.add(Dense(3, activation = 'softmax')) # 3 classes\n",
    "    \n",
    "    # summarize the model\n",
    "    print(model.summary())\n",
    "    return model\n",
    "\n",
    "def compile_and_fit_model(model, X_train, y_train, X_test, y_test, batch_size, n_epochs):\n",
    "\n",
    "    # compile the model\n",
    "    model.compile(\n",
    "        optimizer=keras.optimizers.Adam(),\n",
    "        loss='categorical_crossentropy',\n",
    "        metrics=['categorical_accuracy'])\n",
    "    \n",
    "    # define callbacks\n",
    "    callbacks = [ModelCheckpoint(filepath='/drive/My Drive/Colab Notebooks/best_model_4.h5', \n",
    "                                 monitor='val_categorical_accuracy', save_best_only=True)]\n",
    "    \n",
    "    # fit the model\n",
    "    history = model.fit(x=X_train,\n",
    "                        y=y_train,\n",
    "                        batch_size=batch_size,\n",
    "                        epochs=n_epochs,\n",
    "                        verbose=1,\n",
    "                        callbacks=callbacks,\n",
    "                        validation_data=(X_test, y_test))\n",
    "    \n",
    "    return model, history\n",
    "\n",
    "# shape of the input images\n",
    "input_shape = (X_train.shape[1], X_train.shape[2], X_train.shape[3])\n",
    "\n",
    "# create cnn model\n",
    "cnn_model = build_cnn_model(\"relu\", input_shape)\n",
    "# train cnn model\n",
    "trained_cnn_model, cnn_history = compile_and_fit_model(cnn_model, X_train, Y_train, X_test, Y_test, 100, 15)"
   ]
  },
  {
   "cell_type": "code",
   "execution_count": 0,
   "metadata": {
    "colab": {},
    "colab_type": "code",
    "id": "QNs_KhDJZ-y_"
   },
   "outputs": [],
   "source": [
    "# X_test2 = np.load('/drive/My Drive/Colab Notebooks/test_cnn_2_X.npy')\n",
    "# Y_test2 = np.load('/drive/My Drive/Colab Notebooks/test_cnn_2_Y.npy')"
   ]
  },
  {
   "cell_type": "code",
   "execution_count": 0,
   "metadata": {
    "colab": {},
    "colab_type": "code",
    "id": "jVkmxpy9cT7W"
   },
   "outputs": [],
   "source": [
    "# from keras.models import model_from_json\n",
    "\n",
    "# # load json and create model\n",
    "# json_file = open('/drive/My Drive/Colab Notebooks/cnn_model_arch.json', 'r')\n",
    "# loaded_model_json = json_file.read()\n",
    "# json_file.close()\n",
    "# loaded_model = model_from_json(loaded_model_json)\n",
    "# # load weights into new model\n",
    "# loaded_model.load_weights(\"/drive/My Drive/Colab Notebooks/best_model_1.h5\")\n",
    "# print(\"Loaded model from disk\")\n",
    " \n",
    "# # evaluate loaded model on test data\n",
    "# loaded_model.compile(\n",
    "#         optimizer=keras.optimizers.Adam(),\n",
    "#         loss='categorical_crossentropy',\n",
    "#         metrics=['categorical_accuracy'])"
   ]
  },
  {
   "cell_type": "code",
   "execution_count": 9,
   "metadata": {
    "colab": {
     "base_uri": "https://localhost:8080/",
     "height": 590
    },
    "colab_type": "code",
    "executionInfo": {
     "elapsed": 931274,
     "status": "ok",
     "timestamp": 1588058213395,
     "user": {
      "displayName": "Dominick Harasimiuk",
      "photoUrl": "",
      "userId": "13422480738742258382"
     },
     "user_tz": 240
    },
    "id": "r76WwPCY56bq",
    "outputId": "51119674-0b7d-4d7e-b948-13baea72d250"
   },
   "outputs": [
    {
     "name": "stdout",
     "output_type": "stream",
     "text": [
      "[[ 1069.   428.   517.]\n",
      " [ 9057. 35854. 10356.]\n",
      " [  437.   420.  1198.]]\n"
     ]
    },
    {
     "name": "stderr",
     "output_type": "stream",
     "text": [
      "/usr/local/lib/python3.6/dist-packages/statsmodels/tools/_testing.py:19: FutureWarning: pandas.util.testing is deprecated. Use the functions in the public API at pandas.testing instead.\n",
      "  import pandas.util.testing as tm\n"
     ]
    },
    {
     "data": {
      "text/plain": [
       "Text(51.0, 0.5, 'True Label')"
      ]
     },
     "execution_count": 9,
     "metadata": {
      "tags": []
     },
     "output_type": "execute_result"
    },
    {
     "data": {
      "image/png": "[encoded data removed]",
      "text/plain": [
       "<Figure size 576x576 with 2 Axes>"
      ]
     },
     "metadata": {
      "needs_background": "light",
      "tags": []
     },
     "output_type": "display_data"
    }
   ],
   "source": [
    "from sklearn.metrics import confusion_matrix\n",
    "\n",
    "cm = confusion_matrix(np.argmax(Y_test,1), np.argmax(trained_cnn_model.predict(X_test),1))\n",
    "cm = cm.astype(float)\n",
    "\n",
    "print(cm)\n",
    "\n",
    "cm[0,:] = np.true_divide(cm[0,:], cm[0,:].sum())\n",
    "cm[1,:] = np.true_divide(cm[1,:], cm[1,:].sum())\n",
    "cm[2,:] = np.true_divide(cm[2,:], cm[2,:].sum())\n",
    "\n",
    "\n",
    "import seaborn as sns\n",
    "\n",
    "fig, axs = plt.subplots(1, figsize = (8,8))\n",
    "axs = sns.heatmap(cm, xticklabels=['Up','Unch', 'Down'], \n",
    "                  yticklabels=['Up','Unch', 'Down'], annot = True,square=True)\n",
    "axs.set_title(\"Confusion Matrix\")\n",
    "axs.set_xlabel('Predicted Label')\n",
    "axs.set_ylabel('True Label')"
   ]
  },
  {
   "cell_type": "code",
   "execution_count": 10,
   "metadata": {
    "colab": {
     "base_uri": "https://localhost:8080/",
     "height": 35
    },
    "colab_type": "code",
    "executionInfo": {
     "elapsed": 931861,
     "status": "ok",
     "timestamp": 1588058213990,
     "user": {
      "displayName": "Dominick Harasimiuk",
      "photoUrl": "",
      "userId": "13422480738742258382"
     },
     "user_tz": 240
    },
    "id": "cVp2gkQs65E3",
    "outputId": "d203ed26-75d5-4405-9a7c-451f0b665b20"
   },
   "outputs": [
    {
     "name": "stdout",
     "output_type": "stream",
     "text": [
      "Saved model to disk\n"
     ]
    }
   ],
   "source": [
    "# serialize model to JSON\n",
    "model_json = trained_cnn_model.to_json()\n",
    "with open(\"/drive/My Drive/Colab Notebooks/cnn_model_arch.json\", \"w\") as json_file:\n",
    "    json_file.write(model_json)\n",
    "# serialize weights to HDF5\n",
    "trained_cnn_model.save_weights(\"/drive/My Drive/Colab Notebooks/cnn_model_w_1.h5\")\n",
    "print(\"Saved model to disk\")"
   ]
  }
 ],
 "metadata": {
  "accelerator": "GPU",
  "colab": {
   "authorship_tag": "ABX9TyOEKq29yKoQ1aswGRA0AI4d",
   "collapsed_sections": [],
   "machine_shape": "hm",
   "name": "CNN_Train.ipynb",
   "provenance": []
  },
  "kernelspec": {
   "display_name": "Python 3",
   "language": "python",
   "name": "python3"
  },
  "language_info": {
   "codemirror_mode": {
    "name": "ipython",
    "version": 3
   },
   "file_extension": ".py",
   "mimetype": "text/x-python",
   "name": "python",
   "nbconvert_exporter": "python",
   "pygments_lexer": "ipython3",
   "version": "3.7.6"
  }
 },
 "nbformat": 4,
 "nbformat_minor": 1
}
