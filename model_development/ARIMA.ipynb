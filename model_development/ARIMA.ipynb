{
 "cells": [
  {
   "cell_type": "code",
   "execution_count": 2,
   "metadata": {},
   "outputs": [],
   "source": [
    "#relevant imports\n",
    "import pandas as pd\n",
    "import numpy as np\n",
    "import matplotlib.pyplot as plt\n",
    "\n",
    "import statsmodels.api as sm\n",
    "\n",
    "import os \n",
    "import glob"
   ]
  },
  {
   "cell_type": "code",
   "execution_count": 5,
   "metadata": {
    "scrolled": true
   },
   "outputs": [
    {
     "data": {
      "text/html": [
       "<div>\n",
       "<style scoped>\n",
       "    .dataframe tbody tr th:only-of-type {\n",
       "        vertical-align: middle;\n",
       "    }\n",
       "\n",
       "    .dataframe tbody tr th {\n",
       "        vertical-align: top;\n",
       "    }\n",
       "\n",
       "    .dataframe thead th {\n",
       "        text-align: right;\n",
       "    }\n",
       "</style>\n",
       "<table border=\"1\" class=\"dataframe\">\n",
       "  <thead>\n",
       "    <tr style=\"text-align: right;\">\n",
       "      <th></th>\n",
       "      <th>Sequence</th>\n",
       "      <th>Bid_1_Price</th>\n",
       "      <th>Bid_1_Size</th>\n",
       "      <th>Bid_1_Trades</th>\n",
       "      <th>Bid_2_Price</th>\n",
       "      <th>Bid_2_Size</th>\n",
       "      <th>Bid_2_Trades</th>\n",
       "      <th>Bid_3_Price</th>\n",
       "      <th>Bid_3_Size</th>\n",
       "      <th>Bid_3_Trades</th>\n",
       "      <th>...</th>\n",
       "      <th>Ask_47_Trades</th>\n",
       "      <th>Ask_48_Price</th>\n",
       "      <th>Ask_48_Size</th>\n",
       "      <th>Ask_48_Trades</th>\n",
       "      <th>Ask_49_Price</th>\n",
       "      <th>Ask_49_Size</th>\n",
       "      <th>Ask_49_Trades</th>\n",
       "      <th>Ask_50_Price</th>\n",
       "      <th>Ask_50_Size</th>\n",
       "      <th>Ask_50_Trades</th>\n",
       "    </tr>\n",
       "    <tr>\n",
       "      <th>Timestamp</th>\n",
       "      <th></th>\n",
       "      <th></th>\n",
       "      <th></th>\n",
       "      <th></th>\n",
       "      <th></th>\n",
       "      <th></th>\n",
       "      <th></th>\n",
       "      <th></th>\n",
       "      <th></th>\n",
       "      <th></th>\n",
       "      <th></th>\n",
       "      <th></th>\n",
       "      <th></th>\n",
       "      <th></th>\n",
       "      <th></th>\n",
       "      <th></th>\n",
       "      <th></th>\n",
       "      <th></th>\n",
       "      <th></th>\n",
       "      <th></th>\n",
       "      <th></th>\n",
       "    </tr>\n",
       "  </thead>\n",
       "  <tbody>\n",
       "    <tr>\n",
       "      <th>2020-04-03 17:06:34.424123-04:00</th>\n",
       "      <td>13321475728</td>\n",
       "      <td>6708.69</td>\n",
       "      <td>0.44705</td>\n",
       "      <td>1</td>\n",
       "      <td>6705.57</td>\n",
       "      <td>0.433865</td>\n",
       "      <td>1</td>\n",
       "      <td>6705.56</td>\n",
       "      <td>3.8</td>\n",
       "      <td>1</td>\n",
       "      <td>...</td>\n",
       "      <td>1</td>\n",
       "      <td>6741.24</td>\n",
       "      <td>1.334</td>\n",
       "      <td>1</td>\n",
       "      <td>6743.0</td>\n",
       "      <td>0.058299</td>\n",
       "      <td>1</td>\n",
       "      <td>6743.06</td>\n",
       "      <td>0.927</td>\n",
       "      <td>1</td>\n",
       "    </tr>\n",
       "  </tbody>\n",
       "</table>\n",
       "<p>1 rows × 301 columns</p>\n",
       "</div>"
      ],
      "text/plain": [
       "                                     Sequence  Bid_1_Price  Bid_1_Size  \\\n",
       "Timestamp                                                                \n",
       "2020-04-03 17:06:34.424123-04:00  13321475728      6708.69     0.44705   \n",
       "\n",
       "                                  Bid_1_Trades  Bid_2_Price  Bid_2_Size  \\\n",
       "Timestamp                                                                 \n",
       "2020-04-03 17:06:34.424123-04:00             1      6705.57    0.433865   \n",
       "\n",
       "                                  Bid_2_Trades  Bid_3_Price  Bid_3_Size  \\\n",
       "Timestamp                                                                 \n",
       "2020-04-03 17:06:34.424123-04:00             1      6705.56         3.8   \n",
       "\n",
       "                                  Bid_3_Trades  ...  Ask_47_Trades  \\\n",
       "Timestamp                                       ...                  \n",
       "2020-04-03 17:06:34.424123-04:00             1  ...              1   \n",
       "\n",
       "                                  Ask_48_Price  Ask_48_Size  Ask_48_Trades  \\\n",
       "Timestamp                                                                    \n",
       "2020-04-03 17:06:34.424123-04:00       6741.24        1.334              1   \n",
       "\n",
       "                                  Ask_49_Price  Ask_49_Size  Ask_49_Trades  \\\n",
       "Timestamp                                                                    \n",
       "2020-04-03 17:06:34.424123-04:00        6743.0     0.058299              1   \n",
       "\n",
       "                                  Ask_50_Price  Ask_50_Size  Ask_50_Trades  \n",
       "Timestamp                                                                   \n",
       "2020-04-03 17:06:34.424123-04:00       6743.06        0.927              1  \n",
       "\n",
       "[1 rows x 301 columns]"
      ]
     },
     "execution_count": 5,
     "metadata": {},
     "output_type": "execute_result"
    }
   ],
   "source": [
    "#aggregating collected data\n",
    "paths = glob.glob('./../data/BTC/BTC*.zip')\n",
    "\n",
    "full_dataset = None\n",
    "\n",
    "for i in range(len(paths)):\n",
    "    if full_dataset is None:\n",
    "        full_dataset = pd.read_csv('./../data/BTC/BTC_Book_' + str(i) + '.zip', \n",
    "                                   compression = 'zip', index_col = 0, parse_dates = True)\n",
    "    else:\n",
    "        app_data = pd.read_csv('./../data/BTC/BTC_Book_' + str(i) + '.zip', \n",
    "                               compression = 'zip', index_col = 0, parse_dates = True)\n",
    "        full_dataset = full_dataset.append(app_data)\n",
    "        \n",
    "full_dataset.head(1)        \n",
    "\n",
    "# full_dataset = pd.read_csv('./../data/BTC/BTC_Book_0.zip',\n",
    "#                            compression = 'zip', index_col = 0, parse_dates = True)"
   ]
  },
  {
   "cell_type": "code",
   "execution_count": 6,
   "metadata": {},
   "outputs": [
    {
     "data": {
      "text/html": [
       "<div>\n",
       "<style scoped>\n",
       "    .dataframe tbody tr th:only-of-type {\n",
       "        vertical-align: middle;\n",
       "    }\n",
       "\n",
       "    .dataframe tbody tr th {\n",
       "        vertical-align: top;\n",
       "    }\n",
       "\n",
       "    .dataframe thead th {\n",
       "        text-align: right;\n",
       "    }\n",
       "</style>\n",
       "<table border=\"1\" class=\"dataframe\">\n",
       "  <thead>\n",
       "    <tr style=\"text-align: right;\">\n",
       "      <th></th>\n",
       "      <th>mid_price</th>\n",
       "    </tr>\n",
       "    <tr>\n",
       "      <th>Timestamp</th>\n",
       "      <th></th>\n",
       "    </tr>\n",
       "  </thead>\n",
       "  <tbody>\n",
       "    <tr>\n",
       "      <th>2020-04-03 17:06:34.424123-04:00</th>\n",
       "      <td>6708.695</td>\n",
       "    </tr>\n",
       "    <tr>\n",
       "      <th>2020-04-03 17:06:35.388369-04:00</th>\n",
       "      <td>6708.695</td>\n",
       "    </tr>\n",
       "    <tr>\n",
       "      <th>2020-04-03 17:06:36.414534-04:00</th>\n",
       "      <td>6708.695</td>\n",
       "    </tr>\n",
       "    <tr>\n",
       "      <th>2020-04-03 17:06:37.400652-04:00</th>\n",
       "      <td>6708.695</td>\n",
       "    </tr>\n",
       "    <tr>\n",
       "      <th>2020-04-03 17:06:38.408623-04:00</th>\n",
       "      <td>6708.695</td>\n",
       "    </tr>\n",
       "  </tbody>\n",
       "</table>\n",
       "</div>"
      ],
      "text/plain": [
       "                                  mid_price\n",
       "Timestamp                                  \n",
       "2020-04-03 17:06:34.424123-04:00   6708.695\n",
       "2020-04-03 17:06:35.388369-04:00   6708.695\n",
       "2020-04-03 17:06:36.414534-04:00   6708.695\n",
       "2020-04-03 17:06:37.400652-04:00   6708.695\n",
       "2020-04-03 17:06:38.408623-04:00   6708.695"
      ]
     },
     "execution_count": 6,
     "metadata": {},
     "output_type": "execute_result"
    }
   ],
   "source": [
    "mid_price = pd.DataFrame((full_dataset['Bid_1_Price'] + full_dataset['Ask_1_Price'])/2, columns = ['mid_price'])\n",
    "mid_price.head()"
   ]
  },
  {
   "cell_type": "code",
   "execution_count": 16,
   "metadata": {},
   "outputs": [
    {
     "data": {
      "image/png": "[encoded data removed]",
      "text/plain": [
       "<Figure size 864x576 with 2 Axes>"
      ]
     },
     "metadata": {
      "needs_background": "light"
     },
     "output_type": "display_data"
    }
   ],
   "source": [
    "#Plotting ACF\n",
    "fig, ax = plt.subplots(nrows = 2, ncols = 1, figsize=(12,8), sharex = True)\n",
    "sm.graphics.tsa.plot_acf(mid_price['mid_price'].diff(1)[1:], lags=20, ax=ax[0])\n",
    "sm.graphics.tsa.plot_pacf(mid_price['mid_price'].diff(1)[1:], lags=20, ax=ax[1])\n",
    "ax[0].grid('on')\n",
    "ax[1].grid('on')\n",
    "ax[1].set_xlabel('Lag', fontsize = 12, style = 'italic')\n",
    "fig.suptitle(\"ACF and PACF on First Difference\", fontsize = 15, weight = 'bold')\n",
    "fig.savefig('ARIMA_ACF_PACF.png')\n",
    "pass"
   ]
  },
  {
   "cell_type": "markdown",
   "metadata": {},
   "source": [
    "## (2,1,2) is the best (p,d,q) according to AIC, BIC, MSE"
   ]
  },
  {
   "cell_type": "code",
   "execution_count": null,
   "metadata": {
    "scrolled": false
   },
   "outputs": [
    {
     "name": "stderr",
     "output_type": "stream",
     "text": [
      "C:\\Users\\domin\\Anaconda3\\envs\\QT\\lib\\site-packages\\statsmodels\\tsa\\statespace\\sarimax.py:963: UserWarning: Non-stationary starting autoregressive parameters found. Using zeros as starting parameters.\n",
      "  warn('Non-stationary starting autoregressive parameters'\n",
      "C:\\Users\\domin\\Anaconda3\\envs\\QT\\lib\\site-packages\\statsmodels\\base\\model.py:568: ConvergenceWarning: Maximum Likelihood optimization failed to converge. Check mle_retvals\n",
      "  \"Check mle_retvals\", ConvergenceWarning)\n"
     ]
    },
    {
     "name": "stdout",
     "output_type": "stream",
     "text": [
      "(1, 0, 1)  MSE: 50.069823329939844  AIC: 2083087.930246077 BIC: 2083123.0917548742\n"
     ]
    },
    {
     "name": "stderr",
     "output_type": "stream",
     "text": [
      "C:\\Users\\domin\\Anaconda3\\envs\\QT\\lib\\site-packages\\statsmodels\\base\\model.py:568: ConvergenceWarning: Maximum Likelihood optimization failed to converge. Check mle_retvals\n",
      "  \"Check mle_retvals\", ConvergenceWarning)\n"
     ]
    },
    {
     "name": "stdout",
     "output_type": "stream",
     "text": [
      "(1, 0, 2)  MSE: 50.058398488834804  AIC: 2063809.282181307 BIC: 2063856.1641930365\n"
     ]
    },
    {
     "name": "stderr",
     "output_type": "stream",
     "text": [
      "C:\\Users\\domin\\Anaconda3\\envs\\QT\\lib\\site-packages\\statsmodels\\base\\model.py:568: ConvergenceWarning: Maximum Likelihood optimization failed to converge. Check mle_retvals\n",
      "  \"Check mle_retvals\", ConvergenceWarning)\n"
     ]
    },
    {
     "name": "stdout",
     "output_type": "stream",
     "text": [
      "(1, 0, 3)  MSE: 50.06001214910051  AIC: 2066860.665454519 BIC: 2066919.2679691808\n",
      "(1, 1, 1)  MSE: 50.06162631633017  AIC: 2068472.5585359908 BIC: 2068507.720041489\n",
      "(1, 1, 2)  MSE: 50.05778119795816  AIC: 2062312.3777569735 BIC: 2062359.2597643044\n",
      "(1, 1, 3)  MSE: 50.057531761195854  AIC: 2061913.18560249 BIC: 2061971.7881116536\n",
      "(1, 2, 1)  MSE: 62.43703251804829  AIC: 2072202.1448343121 BIC: 2072237.3063365114\n",
      "(1, 2, 2)  MSE: 62.43523395296661  AIC: 2069340.458804163 BIC: 2069387.3408070952\n"
     ]
    },
    {
     "name": "stderr",
     "output_type": "stream",
     "text": [
      "C:\\Users\\domin\\Anaconda3\\envs\\QT\\lib\\site-packages\\statsmodels\\base\\model.py:568: ConvergenceWarning: Maximum Likelihood optimization failed to converge. Check mle_retvals\n",
      "  \"Check mle_retvals\", ConvergenceWarning)\n"
     ]
    },
    {
     "name": "stdout",
     "output_type": "stream",
     "text": [
      "(1, 2, 3)  MSE: 62.43086025509467  AIC: 2062336.9437681374 BIC: 2062395.5462718026\n"
     ]
    },
    {
     "name": "stderr",
     "output_type": "stream",
     "text": [
      "C:\\Users\\domin\\Anaconda3\\envs\\QT\\lib\\site-packages\\statsmodels\\tsa\\statespace\\sarimax.py:975: UserWarning: Non-invertible starting MA parameters found. Using zeros as starting parameters.\n",
      "  warn('Non-invertible starting MA parameters found.'\n"
     ]
    },
    {
     "name": "stdout",
     "output_type": "stream",
     "text": [
      "(2, 0, 1)  MSE: 50.063963997847  AIC: 2072235.4635387706 BIC: 2072282.3455505\n"
     ]
    },
    {
     "name": "stderr",
     "output_type": "stream",
     "text": [
      "C:\\Users\\domin\\Anaconda3\\envs\\QT\\lib\\site-packages\\statsmodels\\base\\model.py:568: ConvergenceWarning: Maximum Likelihood optimization failed to converge. Check mle_retvals\n",
      "  \"Check mle_retvals\", ConvergenceWarning)\n"
     ]
    },
    {
     "name": "stdout",
     "output_type": "stream",
     "text": [
      "(2, 0, 2)  MSE: 50.0639690126807  AIC: 2072277.2154333747 BIC: 2072335.8179480366\n"
     ]
    },
    {
     "name": "stderr",
     "output_type": "stream",
     "text": [
      "C:\\Users\\domin\\Anaconda3\\envs\\QT\\lib\\site-packages\\statsmodels\\base\\model.py:568: ConvergenceWarning: Maximum Likelihood optimization failed to converge. Check mle_retvals\n",
      "  \"Check mle_retvals\", ConvergenceWarning)\n"
     ]
    },
    {
     "name": "stdout",
     "output_type": "stream",
     "text": [
      "(2, 0, 3)  MSE: 50.05791945532663  AIC: 2062559.5049854675 BIC: 2062629.828003062\n",
      "(2, 1, 1)  MSE: 50.05745635970623  AIC: 2061789.875667847 BIC: 2061836.7576751779\n",
      "(2, 1, 2)  MSE: 50.0571365576264  AIC: 2061277.1821330448 BIC: 2061335.7846422084\n",
      "(2, 1, 3)  MSE: 50.05713075050545  AIC: 2061269.8331229647 BIC: 2061340.156133961\n",
      "(2, 2, 1)  MSE: 62.4305595481591  AIC: 2061851.3847847236 BIC: 2061898.266787656\n",
      "(2, 2, 2)  MSE: 62.43053487748899  AIC: 2061813.7606634332 BIC: 2061872.3631670985\n"
     ]
    },
    {
     "name": "stderr",
     "output_type": "stream",
     "text": [
      "C:\\Users\\domin\\Anaconda3\\envs\\QT\\lib\\site-packages\\statsmodels\\base\\model.py:568: ConvergenceWarning: Maximum Likelihood optimization failed to converge. Check mle_retvals\n",
      "  \"Check mle_retvals\", ConvergenceWarning)\n"
     ]
    },
    {
     "name": "stdout",
     "output_type": "stream",
     "text": [
      "(2, 2, 3)  MSE: 62.430657152657076  AIC: 2062010.7245607127 BIC: 2062081.047565111\n"
     ]
    },
    {
     "name": "stderr",
     "output_type": "stream",
     "text": [
      "C:\\Users\\domin\\Anaconda3\\envs\\QT\\lib\\site-packages\\statsmodels\\base\\model.py:568: ConvergenceWarning: Maximum Likelihood optimization failed to converge. Check mle_retvals\n",
      "  \"Check mle_retvals\", ConvergenceWarning)\n"
     ]
    },
    {
     "name": "stdout",
     "output_type": "stream",
     "text": [
      "(3, 0, 1)  MSE: 50.064011430711545  AIC: 2072353.7907487748 BIC: 2072412.3932634366\n"
     ]
    },
    {
     "name": "stderr",
     "output_type": "stream",
     "text": [
      "C:\\Users\\domin\\Anaconda3\\envs\\QT\\lib\\site-packages\\statsmodels\\base\\model.py:568: ConvergenceWarning: Maximum Likelihood optimization failed to converge. Check mle_retvals\n",
      "  \"Check mle_retvals\", ConvergenceWarning)\n"
     ]
    },
    {
     "name": "stdout",
     "output_type": "stream",
     "text": [
      "(3, 0, 2)  MSE: 50.06339382898962  AIC: 2071486.2850458845 BIC: 2071556.608063479\n"
     ]
    }
   ],
   "source": [
    "p_values = [1,2,3]\n",
    "d_values = [1,2]\n",
    "q_values = [1,2,3]\n",
    "\n",
    "for p in p_values:\n",
    "    for d in d_values:\n",
    "        for q in q_values:\n",
    "            model = sm.tsa.statespace.SARIMAX(endog = mid_price.values, exog = None, order = (p,d,q))\n",
    "            mf = model.fit()\n",
    "            print(str((p,d,q)), \" MSE:\", mf.mse, \" AIC:\", mf.aic, \"BIC:\", mf.bic)"
   ]
  },
  {
   "cell_type": "code",
   "execution_count": null,
   "metadata": {},
   "outputs": [],
   "source": [
    "endog = pd.DataFrame(mid_price.values)\n",
    "\n",
    "# Setup forecasts\n",
    "nforecasts = 1\n",
    "forecasts = [] #{}\n",
    "\n",
    "# Get the number of initial training observations\n",
    "nobs = len(endog)\n",
    "n_init_training = 700000\n",
    "\n",
    "# Create model for initial training sample, fit parameters\n",
    "init_training_endog = endog.iloc[:n_init_training]\n",
    "mod = sm.tsa.SARIMAX(init_training_endog, order=(2, 1, 2))\n",
    "res = mod.fit()\n",
    "\n",
    "# Save initial forecast\n",
    "#forecasts[init_training_endog.index[-1]] = res.forecast(steps=nforecasts)\n",
    "forecasts.append(res.forecast(steps=nforecasts).values[0])\n",
    "\n",
    "# Step through the rest of the sample\n",
    "for t in range(n_init_training, nobs):\n",
    "    # Update the results by appending the next observation\n",
    "    updated_endog = endog.iloc[t:t+1]\n",
    "    res = res.extend(updated_endog)\n",
    "\n",
    "    # Save the new set of forecasts\n",
    "    #forecasts[updated_endog.index[0]] = res.forecast(steps=nforecasts)\n",
    "    forecasts.append(res.forecast(steps=nforecasts).values[0])\n",
    "\n",
    "# Combine all forecasts into a dataframe\n",
    "#forecasts = pd.concat(forecasts, axis=1)\n",
    "\n",
    "#print(forecasts.iloc[:5, :5])\n",
    "forecasts = np.asarray(forecasts)"
   ]
  },
  {
   "cell_type": "code",
   "execution_count": 3,
   "metadata": {},
   "outputs": [],
   "source": [
    "forecasts = np.load('ARIMA_forecasts.npy')"
   ]
  },
  {
   "cell_type": "code",
   "execution_count": 28,
   "metadata": {},
   "outputs": [
    {
     "data": {
      "image/png": "[encoded data removed]",
      "text/plain": [
       "<Figure size 576x360 with 1 Axes>"
      ]
     },
     "metadata": {
      "needs_background": "light"
     },
     "output_type": "display_data"
    }
   ],
   "source": [
    "start = 0\n",
    "window = 100\n",
    "\n",
    "fig, ax = plt.subplots(1,1, figsize = (8,5))\n",
    "ax.plot(mid_price[700000:].values[start:start+window], color = 'blue')\n",
    "ax.plot(forecasts[:len(forecasts)-1][start:start+window], color = 'red')\n",
    "ax.set_title('ARIMA(2,1,2) Out of Sample Forecast (1 Step Ahead)', fontsize = 15, weight = 'bold')\n",
    "ax.set_ylabel('Mid Price', fontsize = 15, style = 'italic')\n",
    "ax.set_xlabel('Time Step', fontsize = 15, style = 'italic')\n",
    "ax.legend(['True Price', 'Forecasted Price'])\n",
    "ax.grid('on')\n",
    "\n",
    "fig.savefig('ARIMA_Forecast.png')"
   ]
  },
  {
   "cell_type": "code",
   "execution_count": 11,
   "metadata": {},
   "outputs": [
    {
     "data": {
      "text/html": [
       "<div>\n",
       "<style scoped>\n",
       "    .dataframe tbody tr th:only-of-type {\n",
       "        vertical-align: middle;\n",
       "    }\n",
       "\n",
       "    .dataframe tbody tr th {\n",
       "        vertical-align: top;\n",
       "    }\n",
       "\n",
       "    .dataframe thead th {\n",
       "        text-align: right;\n",
       "    }\n",
       "</style>\n",
       "<table border=\"1\" class=\"dataframe\">\n",
       "  <thead>\n",
       "    <tr style=\"text-align: right;\">\n",
       "      <th></th>\n",
       "      <th>mid_price</th>\n",
       "      <th>mid_price_pred</th>\n",
       "      <th>mid_price_shift</th>\n",
       "      <th>mp_ret</th>\n",
       "      <th>mp_pred_ret</th>\n",
       "      <th>mp_ret_cat</th>\n",
       "      <th>mp_pred_ret_cat</th>\n",
       "    </tr>\n",
       "  </thead>\n",
       "  <tbody>\n",
       "    <tr>\n",
       "      <th>1</th>\n",
       "      <td>6889.410</td>\n",
       "      <td>6889.410086</td>\n",
       "      <td>6889.410</td>\n",
       "      <td>0.0</td>\n",
       "      <td>8.610497e-05</td>\n",
       "      <td>1</td>\n",
       "      <td>2</td>\n",
       "    </tr>\n",
       "    <tr>\n",
       "      <th>2</th>\n",
       "      <td>6889.410</td>\n",
       "      <td>6889.409998</td>\n",
       "      <td>6889.410</td>\n",
       "      <td>0.0</td>\n",
       "      <td>-2.276322e-06</td>\n",
       "      <td>1</td>\n",
       "      <td>0</td>\n",
       "    </tr>\n",
       "    <tr>\n",
       "      <th>3</th>\n",
       "      <td>6889.410</td>\n",
       "      <td>6889.410023</td>\n",
       "      <td>6889.410</td>\n",
       "      <td>0.0</td>\n",
       "      <td>2.329330e-05</td>\n",
       "      <td>1</td>\n",
       "      <td>2</td>\n",
       "    </tr>\n",
       "    <tr>\n",
       "      <th>4</th>\n",
       "      <td>6889.410</td>\n",
       "      <td>6889.410000</td>\n",
       "      <td>6889.410</td>\n",
       "      <td>0.0</td>\n",
       "      <td>-1.979870e-07</td>\n",
       "      <td>1</td>\n",
       "      <td>0</td>\n",
       "    </tr>\n",
       "    <tr>\n",
       "      <th>5</th>\n",
       "      <td>6889.410</td>\n",
       "      <td>6889.410006</td>\n",
       "      <td>6889.410</td>\n",
       "      <td>0.0</td>\n",
       "      <td>6.308866e-06</td>\n",
       "      <td>1</td>\n",
       "      <td>2</td>\n",
       "    </tr>\n",
       "    <tr>\n",
       "      <th>...</th>\n",
       "      <td>...</td>\n",
       "      <td>...</td>\n",
       "      <td>...</td>\n",
       "      <td>...</td>\n",
       "      <td>...</td>\n",
       "      <td>...</td>\n",
       "      <td>...</td>\n",
       "    </tr>\n",
       "    <tr>\n",
       "      <th>209361</th>\n",
       "      <td>6882.055</td>\n",
       "      <td>6882.083083</td>\n",
       "      <td>6882.055</td>\n",
       "      <td>0.0</td>\n",
       "      <td>2.808300e-02</td>\n",
       "      <td>1</td>\n",
       "      <td>2</td>\n",
       "    </tr>\n",
       "    <tr>\n",
       "      <th>209362</th>\n",
       "      <td>6882.055</td>\n",
       "      <td>6882.055737</td>\n",
       "      <td>6882.055</td>\n",
       "      <td>0.0</td>\n",
       "      <td>7.371209e-04</td>\n",
       "      <td>1</td>\n",
       "      <td>2</td>\n",
       "    </tr>\n",
       "    <tr>\n",
       "      <th>209363</th>\n",
       "      <td>6882.055</td>\n",
       "      <td>6882.062624</td>\n",
       "      <td>6882.055</td>\n",
       "      <td>0.0</td>\n",
       "      <td>7.623679e-03</td>\n",
       "      <td>1</td>\n",
       "      <td>2</td>\n",
       "    </tr>\n",
       "    <tr>\n",
       "      <th>209364</th>\n",
       "      <td>6882.055</td>\n",
       "      <td>6882.055337</td>\n",
       "      <td>6882.055</td>\n",
       "      <td>0.0</td>\n",
       "      <td>3.368570e-04</td>\n",
       "      <td>1</td>\n",
       "      <td>2</td>\n",
       "    </tr>\n",
       "    <tr>\n",
       "      <th>209365</th>\n",
       "      <td>6882.055</td>\n",
       "      <td>6882.057072</td>\n",
       "      <td>6882.055</td>\n",
       "      <td>0.0</td>\n",
       "      <td>2.072056e-03</td>\n",
       "      <td>1</td>\n",
       "      <td>2</td>\n",
       "    </tr>\n",
       "  </tbody>\n",
       "</table>\n",
       "<p>209365 rows × 7 columns</p>\n",
       "</div>"
      ],
      "text/plain": [
       "        mid_price  mid_price_pred  mid_price_shift  mp_ret   mp_pred_ret  \\\n",
       "1        6889.410     6889.410086         6889.410     0.0  8.610497e-05   \n",
       "2        6889.410     6889.409998         6889.410     0.0 -2.276322e-06   \n",
       "3        6889.410     6889.410023         6889.410     0.0  2.329330e-05   \n",
       "4        6889.410     6889.410000         6889.410     0.0 -1.979870e-07   \n",
       "5        6889.410     6889.410006         6889.410     0.0  6.308866e-06   \n",
       "...           ...             ...              ...     ...           ...   \n",
       "209361   6882.055     6882.083083         6882.055     0.0  2.808300e-02   \n",
       "209362   6882.055     6882.055737         6882.055     0.0  7.371209e-04   \n",
       "209363   6882.055     6882.062624         6882.055     0.0  7.623679e-03   \n",
       "209364   6882.055     6882.055337         6882.055     0.0  3.368570e-04   \n",
       "209365   6882.055     6882.057072         6882.055     0.0  2.072056e-03   \n",
       "\n",
       "        mp_ret_cat  mp_pred_ret_cat  \n",
       "1                1                2  \n",
       "2                1                0  \n",
       "3                1                2  \n",
       "4                1                0  \n",
       "5                1                2  \n",
       "...            ...              ...  \n",
       "209361           1                2  \n",
       "209362           1                2  \n",
       "209363           1                2  \n",
       "209364           1                2  \n",
       "209365           1                2  \n",
       "\n",
       "[209365 rows x 7 columns]"
      ]
     },
     "execution_count": 11,
     "metadata": {},
     "output_type": "execute_result"
    }
   ],
   "source": [
    "sd = mid_price['mid_price'].diff(1).shift(-1).std()\n",
    "sd = 0\n",
    "\n",
    "def return_cat(x, stdev):\n",
    "    if x > (0 + stdev):\n",
    "        return 2\n",
    "    if x < (0 - stdev):\n",
    "        return 0\n",
    "    else:\n",
    "        return 1\n",
    "    \n",
    "test_data = pd.DataFrame(mid_price[700000:].values, columns = ['mid_price'])\n",
    "test_data['mid_price_pred'] = forecasts[:len(forecasts)-1]\n",
    "test_data['mid_price_shift'] = test_data['mid_price'].shift(1)\n",
    "test_data['mp_ret'] = test_data['mid_price'].diff(1)\n",
    "test_data['mp_pred_ret'] = test_data['mid_price_pred'] - test_data['mid_price_shift']\n",
    "test_data['mp_ret_cat'] = test_data['mp_ret'].apply(return_cat, args = (sd,))\n",
    "test_data['mp_pred_ret_cat'] = test_data['mp_pred_ret'].apply(return_cat, args = (sd,))\n",
    "test_data = test_data.dropna()\n",
    "\n",
    "test_data"
   ]
  },
  {
   "cell_type": "code",
   "execution_count": 12,
   "metadata": {},
   "outputs": [
    {
     "data": {
      "text/plain": [
       "[<matplotlib.lines.Line2D at 0x201044a0d88>,\n",
       " <matplotlib.lines.Line2D at 0x201044a0f48>]"
      ]
     },
     "execution_count": 12,
     "metadata": {},
     "output_type": "execute_result"
    },
    {
     "data": {
      "image/png": "[encoded data removed]",
      "text/plain": [
       "<Figure size 432x288 with 1 Axes>"
      ]
     },
     "metadata": {
      "needs_background": "light"
     },
     "output_type": "display_data"
    }
   ],
   "source": [
    "start = 0\n",
    "window = 100\n",
    "plt.plot(test_data[start:start+window][['mid_price', 'mid_price_pred']])"
   ]
  },
  {
   "cell_type": "code",
   "execution_count": 13,
   "metadata": {},
   "outputs": [
    {
     "name": "stdout",
     "output_type": "stream",
     "text": [
      "[[14343.   191. 10925.]\n",
      " [58914. 15448. 81091.]\n",
      " [11540.   205. 16708.]]\n"
     ]
    },
    {
     "data": {
      "image/png": "[encoded data removed]",
      "text/plain": [
       "<Figure size 576x576 with 2 Axes>"
      ]
     },
     "metadata": {
      "needs_background": "light"
     },
     "output_type": "display_data"
    }
   ],
   "source": [
    "from sklearn.metrics import confusion_matrix\n",
    "\n",
    "Y_true = test_data['mp_ret_cat'].values\n",
    "Y_pred = test_data['mp_pred_ret_cat'].values\n",
    "\n",
    "cm = confusion_matrix(Y_true, Y_pred)\n",
    "cm=cm.astype(float)\n",
    "print(cm)\n",
    "\n",
    "cm[0,:] = np.true_divide(cm[0,:], cm[0,:].sum())\n",
    "cm[1,:] = np.true_divide(cm[1,:], cm[1,:].sum())\n",
    "cm[2,:] = np.true_divide(cm[2,:], cm[2,:].sum())\n",
    "\n",
    "\n",
    "import seaborn as sns\n",
    "\n",
    "fig, axs = plt.subplots(1, figsize = (8,8))\n",
    "axs = sns.heatmap(cm, xticklabels=['Up','Unch', 'Down'], \n",
    "                  yticklabels=['Up','Unch', 'Down'], annot = True,square=True, \n",
    "                  cmap=plt.cm.Blues, annot_kws={\"size\":16})\n",
    "\n",
    "axs.set_title(\"Arima Confusion Matrix (Test Data)\", fontsize = 15, weight = 'bold')\n",
    "axs.set_xlabel('Predicted Label', fontsize = 15, style = 'italic')\n",
    "axs.set_ylabel('True Label', fontsize = 15, style = 'italic')\n",
    "fig.savefig('CM__ARIMA.png')"
   ]
  }
 ],
 "metadata": {
  "kernelspec": {
   "display_name": "Python 3",
   "language": "python",
   "name": "python3"
  },
  "language_info": {
   "codemirror_mode": {
    "name": "ipython",
    "version": 3
   },
   "file_extension": ".py",
   "mimetype": "text/x-python",
   "name": "python",
   "nbconvert_exporter": "python",
   "pygments_lexer": "ipython3",
   "version": "3.7.6"
  }
 },
 "nbformat": 4,
 "nbformat_minor": 4
}
