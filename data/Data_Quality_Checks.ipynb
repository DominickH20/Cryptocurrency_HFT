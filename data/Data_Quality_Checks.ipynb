{
 "cells": [
  {
   "cell_type": "code",
   "execution_count": 1,
   "metadata": {},
   "outputs": [],
   "source": [
    "#relevant imports\n",
    "import pandas as pd\n",
    "import numpy as np\n",
    "import matplotlib.pyplot as plt"
   ]
  },
  {
   "cell_type": "code",
   "execution_count": 2,
   "metadata": {},
   "outputs": [
    {
     "data": {
      "text/html": [
       "<div>\n",
       "<style scoped>\n",
       "    .dataframe tbody tr th:only-of-type {\n",
       "        vertical-align: middle;\n",
       "    }\n",
       "\n",
       "    .dataframe tbody tr th {\n",
       "        vertical-align: top;\n",
       "    }\n",
       "\n",
       "    .dataframe thead th {\n",
       "        text-align: right;\n",
       "    }\n",
       "</style>\n",
       "<table border=\"1\" class=\"dataframe\">\n",
       "  <thead>\n",
       "    <tr style=\"text-align: right;\">\n",
       "      <th></th>\n",
       "      <th>Sequence</th>\n",
       "      <th>Bid_1_Price</th>\n",
       "      <th>Bid_1_Size</th>\n",
       "      <th>Bid_1_Trades</th>\n",
       "      <th>Bid_2_Price</th>\n",
       "      <th>Bid_2_Size</th>\n",
       "      <th>Bid_2_Trades</th>\n",
       "      <th>Bid_3_Price</th>\n",
       "      <th>Bid_3_Size</th>\n",
       "      <th>Bid_3_Trades</th>\n",
       "      <th>...</th>\n",
       "      <th>Ask_47_Trades</th>\n",
       "      <th>Ask_48_Price</th>\n",
       "      <th>Ask_48_Size</th>\n",
       "      <th>Ask_48_Trades</th>\n",
       "      <th>Ask_49_Price</th>\n",
       "      <th>Ask_49_Size</th>\n",
       "      <th>Ask_49_Trades</th>\n",
       "      <th>Ask_50_Price</th>\n",
       "      <th>Ask_50_Size</th>\n",
       "      <th>Ask_50_Trades</th>\n",
       "    </tr>\n",
       "    <tr>\n",
       "      <th>Timestamp</th>\n",
       "      <th></th>\n",
       "      <th></th>\n",
       "      <th></th>\n",
       "      <th></th>\n",
       "      <th></th>\n",
       "      <th></th>\n",
       "      <th></th>\n",
       "      <th></th>\n",
       "      <th></th>\n",
       "      <th></th>\n",
       "      <th></th>\n",
       "      <th></th>\n",
       "      <th></th>\n",
       "      <th></th>\n",
       "      <th></th>\n",
       "      <th></th>\n",
       "      <th></th>\n",
       "      <th></th>\n",
       "      <th></th>\n",
       "      <th></th>\n",
       "      <th></th>\n",
       "    </tr>\n",
       "  </thead>\n",
       "  <tbody>\n",
       "    <tr>\n",
       "      <th>2020-04-03 17:06:34.424123-04:00</th>\n",
       "      <td>13321475728</td>\n",
       "      <td>6708.69</td>\n",
       "      <td>0.44705</td>\n",
       "      <td>1</td>\n",
       "      <td>6705.57</td>\n",
       "      <td>0.433865</td>\n",
       "      <td>1</td>\n",
       "      <td>6705.56</td>\n",
       "      <td>3.8</td>\n",
       "      <td>1</td>\n",
       "      <td>...</td>\n",
       "      <td>1</td>\n",
       "      <td>6741.24</td>\n",
       "      <td>1.334</td>\n",
       "      <td>1</td>\n",
       "      <td>6743.0</td>\n",
       "      <td>0.058299</td>\n",
       "      <td>1</td>\n",
       "      <td>6743.06</td>\n",
       "      <td>0.927</td>\n",
       "      <td>1</td>\n",
       "    </tr>\n",
       "  </tbody>\n",
       "</table>\n",
       "<p>1 rows × 301 columns</p>\n",
       "</div>"
      ],
      "text/plain": [
       "                                     Sequence  Bid_1_Price  Bid_1_Size  \\\n",
       "Timestamp                                                                \n",
       "2020-04-03 17:06:34.424123-04:00  13321475728      6708.69     0.44705   \n",
       "\n",
       "                                  Bid_1_Trades  Bid_2_Price  Bid_2_Size  \\\n",
       "Timestamp                                                                 \n",
       "2020-04-03 17:06:34.424123-04:00             1      6705.57    0.433865   \n",
       "\n",
       "                                  Bid_2_Trades  Bid_3_Price  Bid_3_Size  \\\n",
       "Timestamp                                                                 \n",
       "2020-04-03 17:06:34.424123-04:00             1      6705.56         3.8   \n",
       "\n",
       "                                  Bid_3_Trades  ...  Ask_47_Trades  \\\n",
       "Timestamp                                       ...                  \n",
       "2020-04-03 17:06:34.424123-04:00             1  ...              1   \n",
       "\n",
       "                                  Ask_48_Price  Ask_48_Size  Ask_48_Trades  \\\n",
       "Timestamp                                                                    \n",
       "2020-04-03 17:06:34.424123-04:00       6741.24        1.334              1   \n",
       "\n",
       "                                  Ask_49_Price  Ask_49_Size  Ask_49_Trades  \\\n",
       "Timestamp                                                                    \n",
       "2020-04-03 17:06:34.424123-04:00        6743.0     0.058299              1   \n",
       "\n",
       "                                  Ask_50_Price  Ask_50_Size  Ask_50_Trades  \n",
       "Timestamp                                                                   \n",
       "2020-04-03 17:06:34.424123-04:00       6743.06        0.927              1  \n",
       "\n",
       "[1 rows x 301 columns]"
      ]
     },
     "execution_count": 2,
     "metadata": {},
     "output_type": "execute_result"
    }
   ],
   "source": [
    "#aggregating collected data\n",
    "dataset_0 = pd.read_csv(\"./BTC/BTC_Book_0.csv\", index_col = 0, parse_dates = True)\n",
    "dataset_1 = pd.read_csv(\"./BTC/BTC_Book_1.csv\", index_col = 0, parse_dates = True)\n",
    "dataset_2 = pd.read_csv(\"./BTC/BTC_Book_2.csv\", index_col = 0, parse_dates = True)\n",
    "dataset_3 = pd.read_csv(\"./BTC/BTC_Book_3.csv\", index_col = 0, parse_dates = True)\n",
    "dataset_4 = pd.read_csv(\"./BTC/BTC_Book_4.csv\", index_col = 0, parse_dates = True)\n",
    "dataset_5 = pd.read_csv(\"./BTC/BTC_Book_5.csv\", index_col = 0, parse_dates = True)\n",
    "dataset_6 = pd.read_csv(\"./BTC/BTC_Book_6.csv\", index_col = 0, parse_dates = True)\n",
    "dataset_7 = pd.read_csv(\"./BTC/BTC_Book_7.csv\", index_col = 0, parse_dates = True)\n",
    "\n",
    "full_dataset = dataset_0.append(dataset_1).append(dataset_2).append(dataset_3).append(dataset_4)\n",
    "full_dataset = full_dataset.append(dataset_5).append(dataset_6).append(dataset_7)\n",
    "\n",
    "full_dataset.head(1)"
   ]
  },
  {
   "cell_type": "code",
   "execution_count": 3,
   "metadata": {},
   "outputs": [
    {
     "data": {
      "image/png": "[encoded data removed]",
      "text/plain": [
       "<Figure size 864x576 with 1 Axes>"
      ]
     },
     "metadata": {
      "needs_background": "light"
     },
     "output_type": "display_data"
    }
   ],
   "source": [
    "#get index\n",
    "idx = np.int64(full_dataset.index.values)/1000000000\n",
    "ts_diffs = np.diff(idx)\n",
    "\n",
    "#plot timestamp differences\n",
    "fig, ax= plt.subplots(1,1, figsize = (12,8))\n",
    "ax.plot(ts_diffs)\n",
    "plt.show()\n",
    "\n",
    "#there is some noise in the data, but for the most part, observations are collected ~1 second apart"
   ]
  },
  {
   "cell_type": "code",
   "execution_count": 4,
   "metadata": {},
   "outputs": [
    {
     "name": "stdout",
     "output_type": "stream",
     "text": [
      "0.045750 percent of samples have a large timedelta\n"
     ]
    }
   ],
   "source": [
    "noise_thres = 1.3\n",
    "noisy_count = len(ts_diffs[np.where(ts_diffs > noise_thres)])\n",
    "\n",
    "noisy_rate = noisy_count/len(ts_diffs)\n",
    "print(\"%f percent of samples have a large timedelta\" % (noisy_rate*100))"
   ]
  }
 ],
 "metadata": {
  "kernelspec": {
   "display_name": "Python 3",
   "language": "python",
   "name": "python3"
  },
  "language_info": {
   "codemirror_mode": {
    "name": "ipython",
    "version": 3
   },
   "file_extension": ".py",
   "mimetype": "text/x-python",
   "name": "python",
   "nbconvert_exporter": "python",
   "pygments_lexer": "ipython3",
   "version": "3.7.6"
  }
 },
 "nbformat": 4,
 "nbformat_minor": 4
}
